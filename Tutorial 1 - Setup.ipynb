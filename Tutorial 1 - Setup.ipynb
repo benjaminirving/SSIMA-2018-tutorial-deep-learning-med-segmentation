{
 "cells": [
  {
   "cell_type": "markdown",
   "metadata": {
    "slideshow": {
     "slide_type": "slide"
    }
   },
   "source": [
    "# Setup for the tutorial\n",
    "\n",
    "Benjamin Irving, 2018\n",
    "\n",
    "- These are the setup steps required to run the tutorial\n",
    "- Aim to create a python environment to run the examples and download the data. \n",
    "- This setup assumes a basic knowledge of Python. If you can't set it up by yourself feel free to message or try and find someone to help. \n",
    "- You can just attend the tutorial without setting up the environment yourself but running it yourself will give you more insight into how to set up these deep learning systems. \n"
   ]
  },
  {
   "cell_type": "markdown",
   "metadata": {},
   "source": [
    "# Step 1: Get the tutorial code\n",
    "\n",
    "Download the tutorial repository (still a work in progress and will be updated)\n",
    "\n",
    "https://github.com/benjaminirving/SSIMA-2018-keras-unet-tutorial\n",
    "\n",
    "\n",
    "Or using git:  \n",
    "`git clone git@github.com:benjaminirving/SSIMA-2018-keras-unet-tutorial.git`"
   ]
  },
  {
   "cell_type": "markdown",
   "metadata": {
    "slideshow": {
     "slide_type": "slide"
    }
   },
   "source": [
    "# Step 2: Python environment\n",
    "\n"
   ]
  },
  {
   "cell_type": "markdown",
   "metadata": {
    "slideshow": {
     "slide_type": "subslide"
    }
   },
   "source": [
    "# Setup for the this tutorial  (CPU)\n",
    "\n",
    "- Fast enough for testing a trained model\n",
    "- Slow for training (need GPU install)\n",
    "\n",
    "\n",
    "### Anaconda\n",
    "- Install Anaconda (https://www.anaconda.com/download/) or miniconda (https://conda.io/miniconda.html)\n",
    "- In the tutorial folder run the following\n",
    "- `conda env create -f environment-cpu.yml`\n",
    "- `source activate ssima-tutorial` activates the environment\n",
    "\n",
    "\n",
    "\n",
    "### Native python\n",
    "\n",
    "- Install python 3 (e.g. from homebrew for macos, apt-get for linux etc)\n",
    "- In the tutorial folder run the following\n",
    "- `pip install pipenv`\n",
    "- `pipenv install`\n",
    "- `pipenv shell` activates the environment you've just installed\n"
   ]
  },
  {
   "cell_type": "markdown",
   "metadata": {
    "slideshow": {
     "slide_type": "subslide"
    }
   },
   "source": [
    "# Setup for deep learning on the GPU (not part of the tutorial)\n",
    "- Not part of this tutorial but can be done if you have a supported GPU\n",
    "\n",
    "Training\n"
   ]
  },
  {
   "cell_type": "markdown",
   "metadata": {},
   "source": [
    "# Testing the installation\n",
    "\n",
    "- Copy the code below into a file called `mnist_cnn.py`\n",
    "- Run the example below using `python mnist_cnn.py`\n",
    "\n",
    "### What's going on?\n",
    "- Training a CNN on the mnist dataset\n",
    "- When finished predicts the number from an input image\n",
    "- Example from: https://github.com/keras-team/keras/blob/master/examples/mnist_cnn.py\n"
   ]
  },
  {
   "cell_type": "code",
   "execution_count": 16,
   "metadata": {},
   "outputs": [
    {
     "name": "stdout",
     "output_type": "stream",
     "text": [
      "x_train shape: (60000, 28, 28, 1)\n",
      "60000 train samples\n",
      "10000 test samples\n",
      "Train on 60000 samples, validate on 10000 samples\n",
      "Epoch 1/4\n",
      "60000/60000 [==============================] - 6s 96us/step - loss: 0.2643 - acc: 0.9179 - val_loss: 0.0588 - val_acc: 0.9806\n",
      "Epoch 2/4\n",
      "60000/60000 [==============================] - 5s 88us/step - loss: 0.0875 - acc: 0.9740 - val_loss: 0.0382 - val_acc: 0.9864\n",
      "Epoch 3/4\n",
      "60000/60000 [==============================] - 5s 88us/step - loss: 0.0652 - acc: 0.9803 - val_loss: 0.0345 - val_acc: 0.9882\n",
      "Epoch 4/4\n",
      "60000/60000 [==============================] - 5s 87us/step - loss: 0.0541 - acc: 0.9838 - val_loss: 0.0311 - val_acc: 0.9887\n",
      "Test loss: 0.03106632049891923\n",
      "Test accuracy: 0.9887\n"
     ]
    },
    {
     "data": {
      "image/png": "[encoded data removed]",
      "text/plain": [
       "<Figure size 432x288 with 1 Axes>"
      ]
     },
     "metadata": {},
     "output_type": "display_data"
    },
    {
     "data": {
      "image/png": "[encoded data removed]",
      "text/plain": [
       "<Figure size 432x288 with 1 Axes>"
      ]
     },
     "metadata": {},
     "output_type": "display_data"
    }
   ],
   "source": [
    "'''\n",
    "\n",
    "Example from: https://github.com/keras-team/keras/blob/master/examples/mnist_cnn.py\n",
    "Copyright (c) 2015 - 2018, François Chollet.\n",
    "Licence: https://github.com/keras-team/keras/blob/master/LICENSE\n",
    "\n",
    "Trains a simple convnet on the MNIST dataset.\n",
    "Gets to 99.25% test accuracy after 12 epochs\n",
    "(there is still a lot of margin for parameter tuning).\n",
    "16 seconds per epoch on a GRID K520 GPU.\n",
    "'''\n",
    "\n",
    "%matplotlib inline\n",
    "\n",
    "from __future__ import print_function\n",
    "import keras\n",
    "from keras.datasets import mnist\n",
    "from keras.models import Sequential\n",
    "from keras.layers import Dense, Dropout, Flatten\n",
    "from keras.layers import Conv2D, MaxPooling2D\n",
    "from keras import backend as K\n",
    "\n",
    "import matplotlib.pyplot as plt\n",
    "import numpy as np\n",
    "\n",
    "batch_size = 128\n",
    "num_classes = 10\n",
    "epochs = 4\n",
    "\n",
    "# input image dimensions\n",
    "img_rows, img_cols = 28, 28\n",
    "\n",
    "# the data, split between train and test sets\n",
    "(x_train, y_train), (x_test, y_test) = mnist.load_data()\n",
    "\n",
    "if K.image_data_format() == 'channels_first':\n",
    "    x_train = x_train.reshape(x_train.shape[0], 1, img_rows, img_cols)\n",
    "    x_test = x_test.reshape(x_test.shape[0], 1, img_rows, img_cols)\n",
    "    input_shape = (1, img_rows, img_cols)\n",
    "else:\n",
    "    x_train = x_train.reshape(x_train.shape[0], img_rows, img_cols, 1)\n",
    "    x_test = x_test.reshape(x_test.shape[0], img_rows, img_cols, 1)\n",
    "    input_shape = (img_rows, img_cols, 1)\n",
    "\n",
    "x_train = x_train.astype('float32')\n",
    "x_test = x_test.astype('float32')\n",
    "x_train /= 255\n",
    "x_test /= 255\n",
    "print('x_train shape:', x_train.shape)\n",
    "print(x_train.shape[0], 'train samples')\n",
    "print(x_test.shape[0], 'test samples')\n",
    "\n",
    "# convert class vectors to binary class matrices\n",
    "y_train = keras.utils.to_categorical(y_train, num_classes)\n",
    "y_test = keras.utils.to_categorical(y_test, num_classes)\n",
    "\n",
    "model = Sequential()\n",
    "model.add(Conv2D(32, kernel_size=(3, 3),\n",
    "                 activation='relu',\n",
    "                 input_shape=input_shape))\n",
    "model.add(Conv2D(64, (3, 3), activation='relu'))\n",
    "model.add(MaxPooling2D(pool_size=(2, 2)))\n",
    "model.add(Dropout(0.25))\n",
    "model.add(Flatten())\n",
    "model.add(Dense(128, activation='relu'))\n",
    "model.add(Dropout(0.5))\n",
    "model.add(Dense(num_classes, activation='softmax'))\n",
    "\n",
    "model.compile(loss=keras.losses.categorical_crossentropy,\n",
    "              optimizer=keras.optimizers.Adadelta(),\n",
    "              metrics=['accuracy'])\n",
    "\n",
    "model.fit(x_train, y_train,\n",
    "          batch_size=batch_size,\n",
    "          epochs=epochs,\n",
    "          verbose=1,\n",
    "          validation_data=(x_test, y_test))\n",
    "pred = model.predict(x_test)\n",
    "score = model.evaluate(x_test, y_test, verbose=0)\n",
    "print('Test loss:', score[0])\n",
    "print('Test accuracy:', score[1])\n",
    "\n",
    "# Look at the predictions from a few cases\n",
    "\n",
    "plt.figure()\n",
    "plt.imshow(np.squeeze(x_test[10]))\n",
    "plt.title('Predicted value of single test case {}'.format(np.argmax(pred[10])))\n",
    "\n",
    "plt.figure()\n",
    "plt.imshow(np.squeeze(x_test[11]))\n",
    "plt.title('Predicted value of single test case {}'.format(np.argmax(pred[11])))\n",
    "plt.show()\n",
    "\n"
   ]
  },
  {
   "attachments": {
    "Selection_013.jpg": {
     "image/jpeg": "[encoded data removed]"
    }
   },
   "cell_type": "markdown",
   "metadata": {
    "slideshow": {
     "slide_type": "slide"
    }
   },
   "source": [
    "# Step 3: Download the dataset\n",
    "\n",
    "DRIVE: Digital Retinal Images for Vessel Extraction\n",
    "\n",
    "- Download data from: http://www.isi.uu.nl/Research/Databases/DRIVE/\n",
    "- Fill in email and get unique code to download data\n",
    "- Save data to `data/DRIVE` in your folder\n",
    "\n",
    "\n",
    "![img/data.jpg](attachment:Selection_013.jpg)\n",
    "\n",
    "\n",
    "**Note**: *All of the images contained in the database were actually used for making clinical diagnoses. To ensure the utmost protection of patient privacy, information that might allow the identity of a patient to be reconstructed has been removed, and we have no actual knowledge that the images could be used alone or in combination to identify any subject. To minimize any further risk of breach of privacy, the use of this database is restricted to those individuals or organizations that obtained the database directly from this website.*"
   ]
  },
  {
   "cell_type": "markdown",
   "metadata": {},
   "source": [
    "# Step 4: Pretrained model\n",
    "\n",
    "A pretrained model will be shared during the tutorial"
   ]
  },
  {
   "cell_type": "markdown",
   "metadata": {},
   "source": [
    "# All set! See you at SSIMA 2018!"
   ]
  },
  {
   "cell_type": "code",
   "execution_count": 17,
   "metadata": {},
   "outputs": [
    {
     "name": "stdout",
     "output_type": "stream",
     "text": [
      "See you at SSIMA 2018\n"
     ]
    }
   ],
   "source": [
    "print('See you at SSIMA 2018')"
   ]
  }
 ],
 "metadata": {
  "celltoolbar": "Slideshow",
  "kernelspec": {
   "display_name": "Python 3",
   "language": "python",
   "name": "python3"
  },
  "language_info": {
   "codemirror_mode": {
    "name": "ipython",
    "version": 3
   },
   "file_extension": ".py",
   "mimetype": "text/x-python",
   "name": "python",
   "nbconvert_exporter": "python",
   "pygments_lexer": "ipython3",
   "version": "3.5.2"
  }
 },
 "nbformat": 4,
 "nbformat_minor": 2
}
